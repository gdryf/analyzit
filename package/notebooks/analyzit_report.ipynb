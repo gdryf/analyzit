{
 "cells": [
  {
   "cell_type": "markdown",
   "id": "3d1f4f09-5caf-44d8-803b-0f704401a415",
   "metadata": {},
   "source": [
    "<img src=\"../assets/logo_blanc_maj.png\" alt=\"logo AnalyzIt\" width=\"300\"/>"
   ]
  },
  {
   "cell_type": "markdown",
   "id": "7d2372f0-dc9a-4149-9c53-16b430d2e444",
   "metadata": {},
   "source": [
    "## Analysis of the composition of cosmetics, customizable grading system of their dangers and tracking of the grades of products entered by the user.\n"
   ]
  },
  {
   "cell_type": "markdown",
   "id": "d032b797-faf2-45c1-bef2-9028d2b666ec",
   "metadata": {},
   "source": [
    "## **1) Our project**"
   ]
  },
  {
   "cell_type": "markdown",
   "id": "fabf4f3d-6a41-4ac8-a35a-9af161d2d4e4",
   "metadata": {},
   "source": [
    "### a. Motivation"
   ]
  },
  {
   "cell_type": "markdown",
   "id": "a0fd9a6b-c6d9-4701-aa8a-857435ed3b28",
   "metadata": {},
   "source": [
    "<p style=\"text-align: justify;\">First of all, we wanted that our project could be <b>used by everyone and useful to all</b>, even if they aren't in the chemistry field. This lead us to think about how people are concerned about chemistry in their everyday lives. We then had the idea to work on product composition, especially on <b>cosmetics</b> because we thought that their compositions were the most complicated to analyze for people in general. <div>Basically, we wanted to <b>help people understand more about what potential dangerous compounds they were using</b>.</p>\n",
    "\n",
    "<p style=\"text-align: justify;\">Obviously, we knew that tools analyzing compositions did already exist, but we wanted to do it our own way. In fact, we only considered as dangerous compounds the <b>parabens</b>, <b>endocrines</b> and <b>carcinogenic compounds</b> to make a <b>targeted grading system</b>. Also, we created our grading system for it to be <b>customizable</b> in function of the <b>user's priorities</b> concerning those three types of danger Finally, we thought that it could be interesting for the user to be able to <b>track the grades of the products he analyzed</b> with a <b>simple and clear graph</b>  which indicates the <b>grade of the product</b> but also its associated <b>commentary with colours</b> (very good, good, average and bad). </p>\n",
    "\n"
   ]
  },
  {
   "cell_type": "markdown",
   "id": "8c0d3ca1-3a1a-47c8-bf4e-284b9076993e",
   "metadata": {},
   "source": [
    "### b. Functionalities"
   ]
  },
  {
   "cell_type": "markdown",
   "id": "3a6074b3-6314-4d37-ab1f-a8d393a4864e",
   "metadata": {},
   "source": [
    "#### Databases"
   ]
  },
  {
   "cell_type": "markdown",
   "id": "0526800e-ffc2-4620-864f-a729ab44b20c",
   "metadata": {},
   "source": [
    "Our project relies on <b>two databases</b> : \n",
    "<ol>\n",
    "<li> The database <span style=\"color:blue;font-weight: bold;\">database_products</span> : \n",
    "<p style=\"text-align: justify;\"> Database obtained by <b>filtering our raw one</b>, csv file containing 3 columns : \"code\" which stocks the <b>barcode</b>, \"product_name\" which stocks the <b>name of the product</b> and \"ingredients_text\" which stocks the <b>list of ingredients</b> of the product. \n",
    "<li> The database <span style=\"color:blue;font-weight: bold;\"> database_dangers</span> : \n",
    "<p style=\"text-align: justify;\">Database obtained by <b>filtering and merging all the databases of the dangerous compounds</b>, csv file containing 4 columns : \"cmpdname\" which stocks the <b>name of the compound</b>, \"cmpdsynonym\" which stocks <b>all of the synonyms of the compound</b>, \"iupacname\" which stocks the <b>iupac name of the compound</b> and \"dangers\" which stocks the <b>type(s) of danger associated with the compound</b>. \n",
    "<p>This database contains all the information needed to identify the dangerous products in a list of ingredients.</p>\n",
    "\n",
    "<p><a href= \"https://github.com/gdryf/analyzit/tree/main/package/data\" target=\"blank\">click here to get more information about our databases and how we filtered them</a>\n"
   ]
  },
  {
   "cell_type": "markdown",
   "id": "a14ccc60-7e60-4e1f-a22b-ca7328c28af4",
   "metadata": {},
   "source": [
    "#### Functions"
   ]
  },
  {
   "cell_type": "markdown",
   "id": "ca2c2410-6070-4b8e-8154-d5f1de178fe9",
   "metadata": {},
   "source": [
    "<p style=\"text-align: justify;\"> Our project consists in <b>seven functions</b> which all build the <b>grading and vizualization tool AnalyzIt</b> :</p>\n",
    "<ol>\n",
    "    <li>The function <span style=\"color:#8A2BE2;font-weight: bold;\"> search_ingredients </span> : \n",
    "        <p style=\"text-align: justify;\">Takes into argument the <b>barcode</b> of the product the user wants to analyze and gives back the <b>list of ingredients</b> associated to it. It is directly linked to <b>our product database </b>(<span style=\"color:blue;font-weight: bold;\">database_products</span>) and searches the barcode in it.</p> \n",
    "\n",
    "<li>The function <span style=\"color:#8A2BE2;font-weight: bold;\"> danger_list </span> : \n",
    "    <p style=\"text-align: justify;\">Takes into argument the <b>barcode</b> of the product the user wants to analyze and gives back a <b>dictionary of dangerous ingredients</b> and their <b>types (Parabens, Endocrines and Carcinogenic compounds)</b>. It is directly linked to <b>our dangerous coumpounds database</b> (<span style=\"color:blue;font-weight: bold;\">database_dangers</span>) and searches the ingredients of the product's list in it.</p>\n",
    "\n",
    "<li>The function <span style=\"color:#8A2BE2;font-weight: bold;\"> amount_dangers </span> : \n",
    "    <p style=\"text-align: justify;\">Takes into argument the <b>dictionary of dangerous ingredients</b> of the product the user wants to analyze (can be given by<span style=\"color:#8A2BE2;font-weight: bold;\"> danger_list</span>)  and gives back a <b>dictionary of types of dangers (Parabens, Endocrines and Carcinogenic compounds)</b> and the <b>number of compounds contained in the product</b> associated to the danger.</p>\n",
    "\n",
    "<li>The function <span style=\"color:#8A2BE2;font-weight: bold;\"> coefficient </span> : \n",
    "    <p style=\"text-align: justify;\"> Takes into argument an <b>integer</b> corresponding to the <b>grade the user assigns to the types of dangers (Paraben, Carcinogenic and Endocrine)</b> to express importance they attach to these dangers. This integer needs to be <b>between 1 and 5</b>. This function gives back a <b>float</b>, the <b>coefficient corresponding to the substance</b> depending on the grade of the substance.</p>\n",
    "\n",
    "<li> The function <span style=\"color:#8A2BE2;font-weight: bold;\"> grading </span> : \n",
    "    <p style=\"text-align: justify;\">Takes into arguments the <b>barcode of the product</b> as well as the <b>grades assigned to the types of dangers (Paraben, Carcinogenic and Endocrine)</b> and gives back the <b>grade of the product</b> calculated using the coefficients (given by the function<span style=\"color:#8A2BE2;font-weight: bold;\"> coefficient</span>) and the number of each dangerous substance (given by the function <span style=\"color:#8A2BE2;font-weight: bold;\"> amount_dangers </span>). The grade obtained can go from <b>0 to 10</b>.</p>\n",
    "\n",
    "<li>The function <span style=\"color:#8A2BE2;font-weight: bold;\"> commentary </span> : \n",
    "    <p style=\"text-align: justify;\">Takes into argument the <b>barcode of the product</b> as well as the <b>grades assigned to the types of dangers (Paraben, Carcinogenic and Endocrine)</b> and gives back a <b>commentary about the grade</b> in which the grade is also specified. This function uses the function <span style=\"color:#8A2BE2;font-weight: bold;\"> grading </span> to get the grade and then determines the commentary corresponding to it. The commentaries are the following : for a <b>10 : very good</b>, for grades from <b>7 to 9 : good </b>, for grades from <b>4 to 6 : average</b> and for grades <b>below 4 : bad</b>.</p>\n",
    "\n",
    "<li>The function <span style=\"color:#8A2BE2;font-weight: bold;\"> graph_grades </span> : \n",
    "    <p style=\"text-align: justify;\">Takes into argument the <b>barcode of the product</b> analyzed, the <b>grades assigned to the types of dangers (Paraben, Carcinogenic and Endocrine)</b>  by the user and <b>two empty lists created beforehand by the user</b> (grades_products and index_products). This function <b>adds a bar to a barplot</b> corresponding to the <b>grade of a barcode</b> each time it is called.  </p>\n",
    "        <p style=\"text-align: justify;\">The graph shows the index of the product on the abscissa (to know how much products have been analyzed) and the grade on the ordinate. Also, the colour of the bar added corresponds to the commentary corresponding to the grade : <span style=\"color:green;font-weight: bold;\">green</span> for a <b>10 (very good)</b>, <span style=\"color:#FFD700;font-weight: bold;\">yellow</span> for grades from <b>7 to 9 (good)</b>, <span style=\"color:orange;font-weight: bold;\">orange</span> for grades from <b>4 to 6 (average)</b> and <span style=\"color:red;font-weight: bold;\">red</span> for grades <b>below 4 (bad)</b>. </p>\n"
   ]
  },
  {
   "cell_type": "markdown",
   "id": "72259185-7191-44b0-8f24-f748ddd8e7bb",
   "metadata": {},
   "source": [
    "### c. Results"
   ]
  },
  {
   "cell_type": "markdown",
   "id": "a04409bb-e02d-46f3-ab3a-085f1a1af657",
   "metadata": {},
   "source": [
    "Our main result (without taking into account the vizualization tool) is given by the function <span style=\"color:#8A2BE2;font-weight: bold;\"> commentary </span> which returns <b>the commentary and grade associated with the barcode entered</b> taking into account the <b>user's priorities</b> (see below) :"
   ]
  },
  {
   "cell_type": "code",
   "execution_count": 3,
   "id": "03148e17-799c-4f09-a5e1-2e7ec02b9c32",
   "metadata": {},
   "outputs": [
    {
     "data": {
      "text/plain": [
       "'The product you scanned is good. The grade of this product is: 8.0'"
      ]
     },
     "execution_count": 3,
     "metadata": {},
     "output_type": "execute_result"
    }
   ],
   "source": [
    "commentary ('74182473396',3,1,1)"
   ]
  },
  {
   "cell_type": "markdown",
   "id": "06f00bd7-4d1d-46b1-ad9d-efd3c786afb4",
   "metadata": {},
   "source": [
    "#### Vizualization tool"
   ]
  },
  {
   "cell_type": "markdown",
   "id": "ed257a3c-daee-4078-b607-e0bba2e52bec",
   "metadata": {},
   "source": [
    "Now, our final result is the <b> barplot </b> completed with various entries of barcodes and grades assigned to Parabenes, Endocrines and Carcinogenic compounds made by the user (thanks to the function <span style=\"color:#8A2BE2;font-weight: bold;\"> graph_grades </span>) which allows him/her/them to <b>visualize if the products entered are more or less dangerous</b> (see below) :"
   ]
  },
  {
   "cell_type": "code",
   "execution_count": 8,
   "id": "fb5943f4-a466-4bd4-a101-96bc418fd8be",
   "metadata": {},
   "outputs": [
    {
     "data": {
      "image/png": "[encoded data removed]",
      "text/plain": [
       "<Figure size 640x480 with 1 Axes>"
      ]
     },
     "metadata": {},
     "output_type": "display_data"
    }
   ],
   "source": [
    "from src.analyzit_cosmetics import search_ingredients, danger_list, amount_dangers, coefficient,grading, commentary, graph_grades\n",
    "grades_products = []\n",
    "index_products = []\n",
    "\n",
    "plt.figure()\n",
    "\n",
    "graph_grades('3014230002601',4,1,4,grades_products,index_products)\n",
    "graph_grades('667556796483',1,1,1,grades_products,index_products)\n",
    "graph_grades('8712561534918',3,1,4,grades_products,index_products)\n",
    "graph_grades('8719134161496',5,5,1,grades_products,index_products)\n",
    "graph_grades('667556796483',3,4,5,grades_products,index_products)\n",
    "graph_grades('5045097777027',5,2,5,grades_products,index_products)\n",
    "graph_grades('8806194023212',3,4,5,grades_products,index_products)\n",
    "graph_grades('70501020166',3,3,3,grades_products,index_products)\n",
    "graph_grades('855553005305',5,2,1,grades_products,index_products)\n",
    "graph_grades('74182473396',3,1,1,grades_products,index_products)\n",
    "\n",
    "plt.show()\n"
   ]
  },
  {
   "cell_type": "markdown",
   "id": "85546774-6a97-4abb-9eab-b18507abf25f",
   "metadata": {},
   "source": [
    "### d. Limitations"
   ]
  },
  {
   "cell_type": "markdown",
   "id": "f030f910-b64a-4e45-8fe0-5106e8200832",
   "metadata": {},
   "source": [
    "\n",
    "\n",
    "<p style=\"text-align: justify;\">Our main limitation is the <b>products database</b> (<span style=\"color:blue;font-weight: bold;\">database_products</span>). In fact, it is far from giving all of the references of existing cosmetics. It is very likely that the user wanting to analyze a product <b>doesn't find it in our database</b> since it is <b>limited</b>. Also, some of the name of ingredients are <b>not formatted the same way as our dangerous compounds database</b> (<span style=\"color:blue;font-weight: bold;\">database_dangers</span>). Indeed, we can find in many lists of ingredients the ingredient \"fragrance\" which isn't a chemical term and, consequently, isn't found in <span style=\"color:blue;font-weight: bold;\">database_dangers</span>. This limitation is very difficult to overcome since the chemicals associated to the fragrance <b>aren't even mentioned on the packaging of the product</b>.\n",
    "\n",
    "<p style=\"text-align: justify;\">The other limitation is related to the <b>database of the dangerous compounds</b> (<span style=\"color:blue;font-weight: bold;\">database_dangers</span>). In order to detect dangerous products more accurately, <b>new categories of types of dangers</b> and their associated databases need to be taken into account. In addition, it is likely that the paraben, carcinogenic and endocrine databases extracted from the PubChem site <b>do not contain all of the molecules in these categories</b>. However, if <b>new dangerous products were to be taken into account</b>, the grading method would certainly have to be changed. The more compounds there are in the database of dangerous compounds, the more likely we are to find them in the products we want to analyze. It might therefore be necessary to <b>use a grading system based on 20 rather than 10</b>, as we would <b>run the risk of obtaining products with a score below 0 </b>for the majority of them. This would not be very productive, as it would not allow us to compare products with each other on the basis of their scores. </p>\n",
    "\n"
   ]
  },
  {
   "cell_type": "markdown",
   "id": "b534ade1-68b5-4df8-881e-41deef28370b",
   "metadata": {},
   "source": [
    "## **2) Big challenges we have encountered**"
   ]
  },
  {
   "cell_type": "markdown",
   "id": "18c8bb6c-42db-4cc6-b439-173647adfba0",
   "metadata": {},
   "source": [
    "### a. Find reliable databases"
   ]
  },
  {
   "cell_type": "markdown",
   "id": "869768cf-e142-4b14-88ac-1a9a4df9176c",
   "metadata": {},
   "source": [
    "<p style=\"text-align: justify;\">Our main challenge was, first of all, to <b>find databases containing products and their lists of ingredients</b>.</p>\n",
    "<p style=\"text-align: justify;\">In fact, we started by wanting to <b>extract lists of ingredients contained in websites of famous cosemtic brands</b> (e.g. L'Oréal) but we quickly found out that this would be <b>too complicated</b>. In fact, some of the websites <b>forbid users to extract such data</b>, other websites have <b>dynamic charging webpages</b> which made it <b>complicated to extract information</b> from it, especially when we have to click on the name of the product to obtain the list of ingredients.</p>\n",
    "<p style=\"text-align: justify;\">Then, after searching for another option, we found an <b>open database</b> (accessible to all) which contained cosmetics and different information about them (including the list of ingredients). This database works <b>relying on people that scan products and enter their informations</b>, everyone can participate in completing it. We found out later on that it was the database on which <b>other known tools which analyze compositions used</b> at their start, which conforted us in using it. </p>\n",
    "<p style=\"text-align: justify;\">Nevertheless, this database has got <b>flaws</b>. In fact, the <b>format of the list of ingredients</b> isn't the same for all of the products, which makes it challenging to extract ingredients from it. Also, some of the products of the database are <b>toothpastes, dishwashing soap,... which aren't really considered as cosmetics</b> but as long as the user doesn't enter their specific barcodes, this isn't a big deal. Finally, the database is kind of <b>limited</b>. Indeed, after filtering it by removing products without a list of ingredients, <b>the number of products left was of 825</b>. It isn't as much as we wished, and our package would make more sense with a more complete database but it still works and has at least <b>more than 500 references</b>. "
   ]
  },
  {
   "cell_type": "markdown",
   "id": "108a6f5b-b4fd-4331-92fb-8b9adcc83049",
   "metadata": {},
   "source": [
    "### b. Considering the user's priorities \n"
   ]
  },
  {
   "cell_type": "markdown",
   "id": "0807a6c9-33c3-41b5-b07c-6e3a2f9f623f",
   "metadata": {},
   "source": [
    "<p style=\"text-align: justify;\">One of the biggest challenges we encountered in the coding of our project was the <b>customizable grade</b> of the scanned product. We wanted the user to be able to enter, in the form of a grade, the importance they attach to each of the types of danger (parabens, carcinogenic, endocrine disruptors). In this way, each category is given a different weighting when the final score for the product is calculated, depending on the user's preferences. </p>\n",
    "\n",
    "<p style=\"text-align: justify;\">However, <b>certain ingredients fall into several categories of dangerous products</b>, meaning that a single ingredient can be both a paraben and carcinogenic. We therefore had to create a new function, <span style=\"color:#8A2BE2;font-weight: bold;\"> amount_dangers</span>. The purpose of this function is to count the number of ingredients in each of the dangerous compounds categories, <b>without double-counting</b> products belonging to two categories. To do this, the function uses the score given for each substance by the user and only counts the ingredient (which belongs to several categories) <b>for the type of danger with the highest grade</b>.</p>\n",
    "\n",
    "<p style=\"text-align: justify;\">This function then returns a dictionary containing the number of dangerous ingredients in the product's list corresponding to each type of danger. This dictionary is then used by the <span style=\"color:#8A2BE2;font-weight: bold;\"> grading </span> function to calculate the score by retrieving the number of ingredients for each danger category and associating it with the coefficient calculated by the <span style=\"color:#8A2BE2;font-weight: bold;\"> coefficient </span> function.</p>"
   ]
  },
  {
   "cell_type": "markdown",
   "id": "aad2bc37-cd16-482c-98f4-4bf03600ac89",
   "metadata": {},
   "source": [
    "### c. Adding to the barplot "
   ]
  },
  {
   "cell_type": "markdown",
   "id": "a03ffe04-ffd1-4b31-a1ff-7040a83f28b5",
   "metadata": {},
   "source": [
    "<p style=\"text-align: justify;\">Another one of the challenges we faced was <b>adding the products one by one to the barplot</b> representing the grades of those products. In fact, we wanted that each time the user calls the<span style=\"color:#8A2BE2;font-weight: bold;\"> graph_grades </span> function, the grade of the products shows on the barplot. We tried <b>initializing the barplot along with the lists containing the grades of the products and the indexes of the products</b> (grades_products and index_products) <b>directly into the function</b> but it created a <b>new graph each time it was called</b>. The only solution we found is that <b>the user needs to initialize himself the graph and the empty lists</b> so that all of the grades would show up on the same barplot. This makes our package less clear to use because it <b>involves lines of code that are not integrated to functions</b>, but it is the only solution we found."
   ]
  }
 ],
 "metadata": {
  "kernelspec": {
   "display_name": "analyzit",
   "language": "python",
   "name": "analyzit"
  },
  "language_info": {
   "codemirror_mode": {
    "name": "ipython",
    "version": 3
   },
   "file_extension": ".py",
   "mimetype": "text/x-python",
   "name": "python",
   "nbconvert_exporter": "python",
   "pygments_lexer": "ipython3",
   "version": "3.11.7"
  }
 },
 "nbformat": 4,
 "nbformat_minor": 5
}

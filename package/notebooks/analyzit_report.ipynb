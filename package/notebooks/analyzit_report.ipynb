{
 "cells": [
  {
   "cell_type": "markdown",
   "id": "83ff1d66-b28d-4bba-9c2d-06460d5a7a8a",
   "metadata": {},
   "source": [
    "# AnalyzIt "
   ]
  },
  {
   "cell_type": "markdown",
   "id": "d032b797-faf2-45c1-bef2-9028d2b666ec",
   "metadata": {},
   "source": [
    "## 1) What is the project about ? "
   ]
  },
  {
   "cell_type": "markdown",
   "id": "fabf4f3d-6a41-4ac8-a35a-9af161d2d4e4",
   "metadata": {},
   "source": [
    "### a. Motivation"
   ]
  },
  {
   "cell_type": "code",
   "execution_count": null,
   "id": "a5348bb3-ee72-478c-82b4-8c6d554481eb",
   "metadata": {},
   "outputs": [],
   "source": []
  },
  {
   "cell_type": "markdown",
   "id": "8c0d3ca1-3a1a-47c8-bf4e-284b9076993e",
   "metadata": {},
   "source": [
    "### b. Functionalities"
   ]
  },
  {
   "cell_type": "code",
   "execution_count": null,
   "id": "7c7c4535-c71b-4dda-8a1a-aff7e8fb2d6b",
   "metadata": {},
   "outputs": [],
   "source": []
  },
  {
   "cell_type": "markdown",
   "id": "72259185-7191-44b0-8f24-f748ddd8e7bb",
   "metadata": {},
   "source": [
    "### c. Results"
   ]
  },
  {
   "cell_type": "code",
   "execution_count": null,
   "id": "d59080f9-0441-4958-b954-644a31782fe9",
   "metadata": {},
   "outputs": [],
   "source": []
  },
  {
   "cell_type": "markdown",
   "id": "85546774-6a97-4abb-9eab-b18507abf25f",
   "metadata": {},
   "source": [
    "### d. Limitations"
   ]
  },
  {
   "cell_type": "code",
   "execution_count": null,
   "id": "bfb71357-9896-4c20-85be-3ed0967c8bf2",
   "metadata": {},
   "outputs": [],
   "source": []
  },
  {
   "cell_type": "markdown",
   "id": "b534ade1-68b5-4df8-881e-41deef28370b",
   "metadata": {},
   "source": [
    "## 2) Challenges we have encountered "
   ]
  },
  {
   "cell_type": "code",
   "execution_count": null,
   "id": "902da555-81a2-4d0b-bec2-13b167338488",
   "metadata": {},
   "outputs": [],
   "source": []
  }
 ],
 "metadata": {
  "kernelspec": {
   "display_name": "analyzit",
   "language": "python",
   "name": "analyzit"
  },
  "language_info": {
   "codemirror_mode": {
    "name": "ipython",
    "version": 3
   },
   "file_extension": ".py",
   "mimetype": "text/x-python",
   "name": "python",
   "nbconvert_exporter": "python",
   "pygments_lexer": "ipython3",
   "version": "3.11.7"
  }
 },
 "nbformat": 4,
 "nbformat_minor": 5
}

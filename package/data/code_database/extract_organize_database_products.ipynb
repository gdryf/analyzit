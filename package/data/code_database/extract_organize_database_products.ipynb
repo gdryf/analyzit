{
 "cells": [
  {
   "cell_type": "code",
   "execution_count": 5,
   "id": "86aed095-6f07-4ac9-9a6c-d9fc653e8234",
   "metadata": {},
   "outputs": [],
   "source": [
    "# Extraction of the important information in our raw products database (ingredients in french and english and name of the product) in a csv file\n",
    "import pandas as pd\n",
    "\n",
    "# Load the csv file\n",
    "df = pd.read_csv(\"database_products.csv\", sep='\\t')\n",
    "\n",
    "# Select the important columns\n",
    "df_subset = df[[\"code\", \"producer_version_id\", \"ingredients_text_fr\",\"ingredients_text_en\",\"product_name_fr\",\"product_name_en\"]]\n",
    "\n",
    "# Save the new data frame in another csv file\n",
    "df_subset.to_csv(\"extraction_database_fren.csv\", index=False)\n"
   ]
  },
  {
   "cell_type": "code",
   "execution_count": 1,
   "id": "c1b17d93-9291-4cd4-bb12-4825ebc9bebe",
   "metadata": {},
   "outputs": [
    {
     "name": "stdout",
     "output_type": "stream",
     "text": [
      "Number of prodcuts in the filtered database : 825\n"
     ]
    }
   ],
   "source": [
    "# Delete the products that don't have a list of ingredients\n",
    "\n",
    "import csv\n",
    "\n",
    "def erase_empty_ingredients(input_file, output_file):\n",
    "    with open(input_file, 'r', encoding='utf-8') as file_in, \\\n",
    "         open(output_file, 'w', newline='', encoding='utf-8') as file_out:\n",
    "        \n",
    "        reader = csv.DictReader(file_in)\n",
    "        fieldnames = reader.fieldnames\n",
    "        \n",
    "        writer = csv.DictWriter(file_out, fieldnames=fieldnames)\n",
    "        writer.writeheader()\n",
    "\n",
    "        # Counting th products with a filled ingredients list \n",
    "        total_products = 0  \n",
    "        \n",
    "        for row in reader:\n",
    "            if row.get('ingredients_text_fr') or row.get('ingredients_text_en'):\n",
    "                writer.writerow(row)\n",
    "                total_products += 1 \n",
    "        \n",
    "        return total_products\n",
    "\n",
    "input_file = 'extraction_database_fren.csv'\n",
    "output_file = 'organized_extraction_database_fren.csv'\n",
    "\n",
    "total_products = erase_empty_ingredients(input_file, output_file)\n",
    "print(\"Number of prodcuts in the filtered database :\", total_products)\n"
   ]
  },
  {
   "cell_type": "code",
   "execution_count": 10,
   "id": "bc042d89-a8f2-4e82-b00d-b35fed5c3fda",
   "metadata": {},
   "outputs": [],
   "source": [
    "# Merge the lists of ingredients prioritizing english language ones\n",
    "import pandas as pd\n",
    "\n",
    "df = pd.read_csv(\"organized_extraction_database_fren.csv\", encoding='utf-8')\n",
    "\n",
    "df['ingredients_text'] = df['ingredients_text_en'].fillna(df['ingredients_text_fr'])\n",
    "df['product_name'] = df['product_name_en'].fillna(df['product_name_fr'])\n",
    "\n",
    "columns_of_interest = [\"code\",'product_name','ingredients_text']  \n",
    "df_final = df[columns_of_interest]\n",
    "\n",
    "df_final.to_csv(\"combined_extraction_database_fren.csv\", index=False, encoding='utf-8')\n"
   ]
  }
 ],
 "metadata": {
  "kernelspec": {
   "display_name": "ppchem",
   "language": "python",
   "name": "ppchem"
  },
  "language_info": {
   "codemirror_mode": {
    "name": "ipython",
    "version": 3
   },
   "file_extension": ".py",
   "mimetype": "text/x-python",
   "name": "python",
   "nbconvert_exporter": "python",
   "pygments_lexer": "ipython3",
   "version": "3.11.7"
  }
 },
 "nbformat": 4,
 "nbformat_minor": 5
}
